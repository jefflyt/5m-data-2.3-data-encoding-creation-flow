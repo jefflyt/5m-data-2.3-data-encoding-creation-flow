{
 "cells": [
  {
   "cell_type": "markdown",
   "id": "8ac2adc1",
   "metadata": {},
   "source": [
    "# Apache Thrift - Library Management Example\n",
    "\n",
    "This notebook demonstrates Apache Thrift concepts using a **Library Management System** example. We'll build a system where librarians can manage books and patrons can borrow them.\n",
    "\n",
    "## Key Learning Objectives\n",
    "- Understand Thrift **struct** (data containers)\n",
    "- Understand Thrift **service** (remote interfaces)\n",
    "- See how **field tags** work in binary encoding\n",
    "- Practice **RPC** (Remote Procedure Calls) between client and server"
   ]
  },
  {
   "cell_type": "markdown",
   "id": "a34d01f0",
   "metadata": {},
   "source": [
    "## Thrift Data Types Recap\n",
    "\n",
    "Thrift provides these fundamental types:\n",
    "- **bool**: true/false values\n",
    "- **i32**: 32-bit signed integers\n",
    "- **i64**: 64-bit signed integers\n",
    "- **double**: floating-point numbers\n",
    "- **string**: UTF-8 text strings\n",
    "- **list<T>**: ordered collections\n",
    "- **set<T>**: unique collections\n",
    "- **map<K,V>**: key-value pairs\n",
    "\n",
    "**Important**: Field tags (like `1:`, `2:`, `3:`) are used for binary encoding instead of field names!"
   ]
  },
  {
   "cell_type": "markdown",
   "id": "57389f0d",
   "metadata": {},
   "source": [
    "## Our Example: Library Management System\n",
    "\n",
    "Let's model this JSON data using Thrift:\n",
    "\n",
    "```json\n",
    "{\n",
    "  \"bookId\": \"ISBN-12345\",\n",
    "  \"title\": \"The Data Science Handbook\",\n",
    "  \"author\": \"Dr. Jane Smith\",\n",
    "  \"publishedYear\": 2023,\n",
    "  \"genres\": [\"Technology\", \"Education\"],\n",
    "  \"isAvailable\": true\n",
    "}\n",
    "```\n",
    "\n",
    "**Key Insight**: Unlike JSON which stores field names, Thrift uses numeric field tags for compact binary encoding!"
   ]
  },
  {
   "cell_type": "markdown",
   "id": "d9d404c2",
   "metadata": {},
   "source": [
    "## Step 1: Define the Thrift Schema\n",
    "\n",
    "We'll create a `.thrift` file that defines our data structures and services:"
   ]
  },
  {
   "cell_type": "code",
   "execution_count": 1,
   "id": "5e93555f",
   "metadata": {},
   "outputs": [
    {
     "name": "stdout",
     "output_type": "stream",
     "text": [
      "Writing ../schema/library.thrift\n"
     ]
    }
   ],
   "source": [
    "%%writefile ../schema/library.thrift\n",
    "\n",
    "# Book data structure\n",
    "struct Book {\n",
    "  1: required string bookId,\n",
    "  2: required string title,\n",
    "  3: required string author,\n",
    "  4: optional i32 publishedYear,\n",
    "  5: optional list<string> genres,\n",
    "  6: optional bool isAvailable\n",
    "}\n",
    "\n",
    "# Library service with remote methods\n",
    "service LibraryService {\n",
    "    Book borrowBook(1: required Book book, 2: required string patronName),\n",
    "    Book returnBook(1: required Book book),\n",
    "    list<Book> searchBooks(1: required string keyword)\n",
    "}"
   ]
  },
  {
   "cell_type": "markdown",
   "id": "302489eb",
   "metadata": {},
   "source": [
    "### Understanding the Schema\n",
    "\n",
    "**struct Book:**\n",
    "- `1: required string bookId` → Field tag 1, must be provided\n",
    "- `4: optional i32 publishedYear` → Field tag 4, can be omitted\n",
    "- **Why field tags?** Binary encoding uses numbers instead of field names for efficiency\n",
    "\n",
    "**service LibraryService:**\n",
    "- `borrowBook()` → Takes a Book and patron name, returns updated Book\n",
    "- `returnBook()` → Takes a Book, marks it available, returns updated Book\n",
    "- `searchBooks()` → Takes keyword, returns list of matching Books\n",
    "\n",
    "**Key Point**: Services define what operations can be called remotely!"
   ]
  },
  {
   "cell_type": "markdown",
   "id": "3888b833",
   "metadata": {},
   "source": [
    "## Step 2: Implement the Server\n",
    "\n",
    "The server contains the actual business logic:"
   ]
  },
  {
   "cell_type": "code",
   "execution_count": 2,
   "id": "2bcb76f5",
   "metadata": {},
   "outputs": [
    {
     "name": "stdout",
     "output_type": "stream",
     "text": [
      "Writing ../library_thrift_server.py\n"
     ]
    }
   ],
   "source": [
    "%%writefile ../library_thrift_server.py\n",
    "import thriftpy2\n",
    "library_thrift = thriftpy2.load(\"./schema/library.thrift\", module_name=\"library_thrift\")\n",
    "\n",
    "from thriftpy2.rpc import make_server\n",
    "\n",
    "class LibraryService(object):\n",
    "    def __init__(self):\n",
    "        # Simple in-memory database\n",
    "        self.book_database = {}\n",
    "        \n",
    "    def borrowBook(self, book, patronName):\n",
    "        print(f\"📚 {patronName} is borrowing '{book.title}' by {book.author}\")\n",
    "        book.isAvailable = False\n",
    "        # In real system: record who borrowed it, due date, etc.\n",
    "        return book\n",
    "        \n",
    "    def returnBook(self, book):\n",
    "        print(f\"📚 Returned: '{book.title}' is now available again\")\n",
    "        book.isAvailable = True\n",
    "        return book\n",
    "        \n",
    "    def searchBooks(self, keyword):\n",
    "        print(f\"🔍 Searching for books with keyword: '{keyword}'\")\n",
    "        # Mock search results\n",
    "        mock_results = [\n",
    "            library_thrift.Book(\n",
    "                bookId=\"ISBN-001\",\n",
    "                title=\"Data Science Fundamentals\", \n",
    "                author=\"Dr. Alice Johnson\",\n",
    "                publishedYear=2022,\n",
    "                genres=[\"Technology\", \"Data Science\"],\n",
    "                isAvailable=True\n",
    "            ),\n",
    "            library_thrift.Book(\n",
    "                bookId=\"ISBN-002\",\n",
    "                title=\"Machine Learning Patterns\",\n",
    "                author=\"Prof. Bob Wilson\", \n",
    "                publishedYear=2023,\n",
    "                genres=[\"Technology\", \"AI\"],\n",
    "                isAvailable=True\n",
    "            )\n",
    "        ]\n",
    "        return [book for book in mock_results if keyword.lower() in book.title.lower()]\n",
    "\n",
    "# Start the server\n",
    "server = make_server(library_thrift.LibraryService, LibraryService(), client_timeout=None)\n",
    "print(\"🚀 Library server starting on default port...\")\n",
    "server.serve()"
   ]
  },
  {
   "cell_type": "markdown",
   "id": "4762ffdc",
   "metadata": {},
   "source": [
    "### Server Implementation Notes\n",
    "\n",
    "**Key Points:**\n",
    "1. **Class name matches service**: `LibraryService` class implements `service LibraryService`\n",
    "2. **Method signatures match**: `borrowBook(self, book, patronName)` matches schema\n",
    "3. **Business logic**: Server modifies book availability, logs actions\n",
    "4. **Return types**: Must return what the schema promises (Book or list<Book>)\n",
    "\n",
    "**Real-world consideration**: In production, you'd use a real database instead of in-memory storage!"
   ]
  },
  {
   "cell_type": "markdown",
   "id": "7c02d99a",
   "metadata": {},
   "source": [
    "## Step 3: Run the Server\n",
    "\n",
    "To start the server, run this in a terminal:\n",
    "\n",
    "```bash\n",
    "python library_thrift_server.py\n",
    "```\n",
    "\n",
    "You should see: `🚀 Library server starting on default port...`\n",
    "\n",
    "The server will wait for client connections and handle RPC requests."
   ]
  },
  {
   "cell_type": "markdown",
   "id": "c020c4c5",
   "metadata": {},
   "source": [
    "## Step 4: Create Client Connection\n",
    "\n",
    "Now let's create a client that connects to our server:"
   ]
  },
  {
   "cell_type": "code",
   "execution_count": 3,
   "id": "15db2887",
   "metadata": {},
   "outputs": [
    {
     "name": "stdout",
     "output_type": "stream",
     "text": [
      "✅ Connected to Library server!\n"
     ]
    }
   ],
   "source": [
    "import thriftpy2\n",
    "library_thrift = thriftpy2.load(\"../schema/library.thrift\", module_name=\"library_thrift\")\n",
    "\n",
    "from thriftpy2.rpc import make_client\n",
    "\n",
    "# Connect to the server\n",
    "library_client = make_client(library_thrift.LibraryService, timeout=None)\n",
    "print(\"✅ Connected to Library server!\")"
   ]
  },
  {
   "cell_type": "markdown",
   "id": "2e0a7f93",
   "metadata": {},
   "source": [
    "## Step 5: Create and Use Book Objects\n",
    "\n",
    "Let's create some Book objects and interact with the library:"
   ]
  },
  {
   "cell_type": "code",
   "execution_count": 4,
   "id": "3277ba0c",
   "metadata": {},
   "outputs": [
    {
     "name": "stdout",
     "output_type": "stream",
     "text": [
      "📖 Created book:\n",
      "   Title: The Data Science Handbook\n",
      "   Author: Dr. Jane Smith\n",
      "   Available: True\n",
      "   Genres: ['Technology', 'Education']\n"
     ]
    }
   ],
   "source": [
    "# Create a book object\n",
    "my_book = library_thrift.Book(\n",
    "    bookId=\"ISBN-12345\",\n",
    "    title=\"The Data Science Handbook\",\n",
    "    author=\"Dr. Jane Smith\",\n",
    "    publishedYear=2023,\n",
    "    genres=[\"Technology\", \"Education\"],\n",
    "    isAvailable=True\n",
    ")\n",
    "\n",
    "print(\"📖 Created book:\")\n",
    "print(f\"   Title: {my_book.title}\")\n",
    "print(f\"   Author: {my_book.author}\")\n",
    "print(f\"   Available: {my_book.isAvailable}\")\n",
    "print(f\"   Genres: {my_book.genres}\")"
   ]
  },
  {
   "cell_type": "markdown",
   "id": "6ec0d465",
   "metadata": {},
   "source": [
    "### Understanding Object Creation\n",
    "\n",
    "**Key Points:**\n",
    "- `library_thrift.Book()` creates a Book instance using the generated class\n",
    "- **Field names** are used in Python (title, author, etc.)\n",
    "- **Field tags** are used in binary encoding (1, 2, 3, etc.)\n",
    "- **Required fields** must be provided, **optional fields** can be omitted"
   ]
  },
  {
   "cell_type": "markdown",
   "id": "bbe45b9c",
   "metadata": {},
   "source": [
    "## Step 6: Make Remote Procedure Calls\n",
    "\n",
    "Now let's call the remote methods on our server:"
   ]
  },
  {
   "cell_type": "code",
   "execution_count": 5,
   "id": "4e767665",
   "metadata": {},
   "outputs": [
    {
     "name": "stdout",
     "output_type": "stream",
     "text": [
      "\n",
      "🔄 Making RPC call: borrowBook()\n",
      "Result: Book available = False\n"
     ]
    }
   ],
   "source": [
    "# RPC Call 1: Borrow a book\n",
    "print(\"\\n🔄 Making RPC call: borrowBook()\")\n",
    "borrowed_book = library_client.borrowBook(my_book, \"Alice Cooper\")\n",
    "print(f\"Result: Book available = {borrowed_book.isAvailable}\")"
   ]
  },
  {
   "cell_type": "code",
   "execution_count": 6,
   "id": "3fd83825",
   "metadata": {},
   "outputs": [
    {
     "name": "stdout",
     "output_type": "stream",
     "text": [
      "\n",
      "🔄 Making RPC call: returnBook()\n",
      "Result: Book available = True\n"
     ]
    }
   ],
   "source": [
    "# RPC Call 2: Return the book\n",
    "print(\"\\n🔄 Making RPC call: returnBook()\")\n",
    "returned_book = library_client.returnBook(borrowed_book)\n",
    "print(f\"Result: Book available = {returned_book.isAvailable}\")"
   ]
  },
  {
   "cell_type": "code",
   "execution_count": 7,
   "id": "d5e5bbb3",
   "metadata": {},
   "outputs": [
    {
     "name": "stdout",
     "output_type": "stream",
     "text": [
      "\n",
      "🔄 Making RPC call: searchBooks()\n",
      "Found 1 books:\n",
      "   - Data Science Fundamentals by Dr. Alice Johnson (2022)\n"
     ]
    }
   ],
   "source": [
    "# RPC Call 3: Search for books\n",
    "print(\"\\n🔄 Making RPC call: searchBooks()\")\n",
    "search_results = library_client.searchBooks(\"Data\")\n",
    "print(f\"Found {len(search_results)} books:\")\n",
    "for book in search_results:\n",
    "    print(f\"   - {book.title} by {book.author} ({book.publishedYear})\")"
   ]
  },
  {
   "cell_type": "markdown",
   "id": "17bf4ffa",
   "metadata": {},
   "source": [
    "### Understanding RPC Calls\n",
    "\n",
    "**What happens during an RPC call:**\n",
    "\n",
    "1. **Client side**: `library_client.borrowBook(my_book, \"Alice Cooper\")`\n",
    "2. **Serialization**: Book object → binary data using field tags\n",
    "3. **Network**: Binary data sent to server\n",
    "4. **Server side**: Binary data → Book object → method execution\n",
    "5. **Response**: Modified Book object → binary data → back to client\n",
    "6. **Deserialization**: Binary data → Book object on client\n",
    "\n",
    "**Key insight**: The client and server communicate in binary, but you work with Python objects!"
   ]
  },
  {
   "cell_type": "markdown",
   "id": "ece605e3",
   "metadata": {},
   "source": [
    "## Step 7: Complete Client Application\n",
    "\n",
    "Let's create a complete client script that demonstrates the full workflow:"
   ]
  },
  {
   "cell_type": "code",
   "execution_count": null,
   "id": "035253f1",
   "metadata": {},
   "outputs": [],
   "source": [
    "%%writefile ../library_thrift_client.py\n",
    "import thriftpy2\n",
    "library_thrift = thriftpy2.load(\"./schema/library.thrift\", module_name=\"library_thrift\")\n",
    "\n",
    "from thriftpy2.rpc import make_client\n",
    "\n",
    "def main():\n",
    "    # Connect to server\n",
    "    print(\"🔌 Connecting to Library server...\")\n",
    "    client = make_client(library_thrift.LibraryService, timeout=None)\n",
    "    \n",
    "    # Create some books\n",
    "    book1 = library_thrift.Book(\n",
    "        bookId=\"ISBN-001\",\n",
    "        title=\"Python for Data Analysis\",\n",
    "        author=\"Wes McKinney\",\n",
    "        publishedYear=2022,\n",
    "        genres=[\"Programming\", \"Data Science\"],\n",
    "        isAvailable=True\n",
    "    )\n",
    "    \n",
    "    book2 = library_thrift.Book(\n",
    "        bookId=\"ISBN-002\", \n",
    "        title=\"Machine Learning Yearning\",\n",
    "        author=\"Andrew Ng\",\n",
    "        publishedYear=2018,\n",
    "        genres=[\"AI\", \"Machine Learning\"],\n",
    "        isAvailable=True\n",
    "    )\n",
    "    \n",
    "    # Demonstrate library operations\n",
    "    print(\"\\n📚 Library Management Demo\")\n",
    "    print(\"=\" * 40)\n",
    "    \n",
    "    # 1. Search for books\n",
    "    print(\"\\n🔍 Searching for books containing 'Machine'...\")\n",
    "    results = client.searchBooks(\"Machine\")\n",
    "    for book in results:\n",
    "        print(f\"   Found: {book.title} by {book.author}\")\n",
    "    \n",
    "    # 2. Borrow books\n",
    "    print(\"\\n📖 John is borrowing books...\")\n",
    "    book1 = client.borrowBook(book1, \"John Doe\")\n",
    "    book2 = client.borrowBook(book2, \"John Doe\")\n",
    "    \n",
    "    # 3. Return a book\n",
    "    print(\"\\n📚 John is returning one book...\")\n",
    "    book1 = client.returnBook(book1)\n",
    "    \n",
    "    print(\"\\n✅ Demo completed successfully!\")\n",
    "\n",
    "if __name__ == \"__main__\":\n",
    "    main()"
   ]
  },
  {
   "cell_type": "markdown",
   "id": "7a41a9f8",
   "metadata": {},
   "source": [
    "## How to Test the Complete System\n",
    "\n",
    "1. **Run the server** (in terminal 1):\n",
    "   ```bash\n",
    "   python library_thrift_server.py\n",
    "   ```\n",
    "\n",
    "2. **Run the client** (in terminal 2):\n",
    "   ```bash\n",
    "   python library_thrift_client.py\n",
    "   ```\n",
    "\n",
    "3. **Expected output**:\n",
    "   - Server shows: RPC calls being processed\n",
    "   - Client shows: Search results, borrow/return confirmations"
   ]
  },
  {
   "cell_type": "markdown",
   "id": "7cbc6d5c",
   "metadata": {},
   "source": [
    "## Key Learning Points\n",
    "\n",
    "### 1. **Schema vs Implementation**\n",
    "- **`.thrift` file**: Defines the contract (what data looks like, what methods exist)\n",
    "- **Server class**: Implements the actual business logic\n",
    "- **Client code**: Uses the contract to make remote calls\n",
    "\n",
    "### 2. **Field Tags vs Field Names**\n",
    "- **Field tags (1:, 2:, 3:)**: Used in binary encoding for efficiency\n",
    "- **Field names (bookId, title)**: Used in your Python code for readability\n",
    "- **Why this matters**: You can change field names without breaking compatibility!\n",
    "\n",
    "### 3. **RPC Flow**\n",
    "```\n",
    "Client Python Object → Binary Data → Network → Binary Data → Server Python Object\n",
    "Server Python Object → Binary Data → Network → Binary Data → Client Python Object\n",
    "```\n",
    "\n",
    "### 4. **Required vs Optional**\n",
    "- **required**: Must be provided, breaking change to remove\n",
    "- **optional**: Can be omitted, safe to add/remove for compatibility"
   ]
  },
  {
   "cell_type": "markdown",
   "id": "b07dbc34",
   "metadata": {},
   "source": [
    "## Practice Exercises\n",
    "\n",
    "Try extending this example:\n",
    "\n",
    "1. **Add a `Patron` struct** with fields like `patronId`, `name`, `email`, `borrowedBooks`\n",
    "\n",
    "2. **Add new service methods**:\n",
    "   - `registerPatron(Patron patron)` → returns registered Patron\n",
    "   - `getPatronHistory(string patronId)` → returns list<Book>\n",
    "\n",
    "3. **Handle edge cases**:\n",
    "   - What happens if someone tries to borrow an unavailable book?\n",
    "   - How do you track due dates?\n",
    "\n",
    "4. **Compare with JSON**:\n",
    "   - How much smaller is the Thrift binary vs equivalent JSON?\n",
    "   - What happens if you add a new field to an old client?\n",
    "\n",
    "These exercises will deepen your understanding of Thrift's schema evolution, binary efficiency, and RPC patterns!"
   ]
  }
 ],
 "metadata": {
  "kernelspec": {
   "display_name": "bde",
   "language": "python",
   "name": "python3"
  },
  "language_info": {
   "codemirror_mode": {
    "name": "ipython",
    "version": 3
   },
   "file_extension": ".py",
   "mimetype": "text/x-python",
   "name": "python",
   "nbconvert_exporter": "python",
   "pygments_lexer": "ipython3",
   "version": "3.10.13"
  }
 },
 "nbformat": 4,
 "nbformat_minor": 5
}
