{
 "cells": [
  {
   "cell_type": "markdown",
   "id": "60e465a9",
   "metadata": {},
   "source": [
    "# Assignment\n",
    "\n",
    "## Brief\n",
    "\n",
    "Write the Python codes for the following questions."
   ]
  },
  {
   "cell_type": "markdown",
   "id": "0ce9eb52",
   "metadata": {},
   "source": [
    "## Instructions\n",
    "\n",
    "Paste the answer as Python in the answer code section below each question."
   ]
  },
  {
   "cell_type": "markdown",
   "id": "fd717db7",
   "metadata": {},
   "source": [
    "### Question 1\n",
    "\n",
    "Question: Implement a simple Thrift server and client that defines a `Student` struct with fields `name` (string), `age` (integer), and `courses` (list of strings). Include a service `School` with a method `enrollCourse` that takes a `Student` record and a course name, adds the course to the student's course list, and returns the updated `Student` record."
   ]
  },
  {
   "cell_type": "code",
   "execution_count": null,
   "id": "ed1c26d2",
   "metadata": {},
   "outputs": [],
   "source": [
    "# Thrift schema (student.thrift)\n",
    "%%writefile ../schema/student.thrift\n",
    "\n",
    "struct Student {\n",
    "  1: required string name,\n",
    "  2: optional int age,\n",
    "  3: optional list<string> courses\n",
    "}\n",
    "\n",
    "service School {\n",
    "  Student enrollCourse(1: required Student student, 2: required string course)\n",
    "}\n",
    "\n",
    "# Thrift server (student_server.py)\n",
    "%%writefile ../student_server.py\n",
    "import thriftpy2\n",
    "student_thrift = thriftpy2.load(\"./schema/student.thrift\", module_name=\"student_thrift\")\n",
    "\n",
    "from thriftpy2.rpc import make_server\n",
    "\n",
    "class School(object):\n",
    "    def enrollCourse(self, student, course):\n",
    "      student.courses.append(course)\n",
    "      return student\n",
    "\n",
    "server = make_server(student_thrift.School, School(), client_timeout=None)\n",
    "server.serve()\n",
    "\n",
    "# Thrift client (student_client.py)\n",
    "import thriftpy2\n",
    "student_thrift = thriftpy2.load(\"./schema/student.thrift\", module_name=\"student_thrift\")\n",
    "\n",
    "from thriftpy2.rpc import make_client\n",
    "\n",
    "#Create a client\n",
    "school = make_client(student_thrift.School, timeout=None)\n",
    "\n",
    "# Create student, May\n",
    "May = student_thrift.Student(name=\"May\", age=20, courses=[\"Math\", \"English\"])\n",
    "\n",
    "# Call method\n",
    "updated_May = school.enrollCourse(May, \"Physics\")\n",
    "print(updated_May.courses)"
   ]
  },
  {
   "cell_type": "markdown",
   "id": "25abdb77",
   "metadata": {},
   "source": [
    "### Question 2\n",
    "\n",
    "Question: Implement a simple Protocol Buffers server and client that defines a `Book` message with fields `title` (string), `author` (string), and `page_count` (integer). Include a service `Library` with a method `checkoutBook` that takes a `Book` message and returns the same `Book` message."
   ]
  },
  {
   "cell_type": "code",
   "execution_count": null,
   "id": "ab5678e5",
   "metadata": {},
   "outputs": [],
   "source": [
    "# Protobuf schema (book.proto)\n",
    "%%writefile ../schema/Book.proto\n",
    "syntax = \"proto3\";\n",
    "\n",
    "message Book {\n",
    "  string title = 1;\n",
    "  string author = 2;\n",
    "  int32 page_count = 3;\n",
    "}\n",
    "\n",
    "message Checkout {\n",
    "    Book book = 1;\n",
    "}\n",
    "\n",
    "service Library {\n",
    "  rpc checkoutBook (Checkout) returns (Book) {}\n",
    "}\n",
    "\n",
    "# run command\n",
    "python -m grpc_tools.protoc -I../schema --python_out=. --grpc_python_out=. ../schema/Book.proto\n",
    "\n",
    "# Protobuf server (book_server.py)\n",
    "\n",
    "%%writefile ../book_server.py\n",
    "from concurrent import futures\n",
    "import grpc\n",
    "import book_pb2\n",
    "import book_pb2_grpc\n",
    "\n",
    "class Library(book_pb2_grpc.LibraryServicer):\n",
    "    def checkoutBook(self, request, context):\n",
    "        return request.book\n",
    "\n",
    "server = grpc.server(futures.ThreadPoolExecutor(max_workers=10))\n",
    "book_pb2_grpc.add_LibraryServicer_to_server(Library(), server)\n",
    "server.add_insecure_port('[::]:50051')\n",
    "server.start()\n",
    "server.wait_for_termination()\n",
    "\n",
    "# Run the server\n",
    "python book_server.py\n",
    "\n",
    "# Protobuf client (book_client.py)\n",
    "import sys\n",
    "import grpc\n",
    "import book_pb2\n",
    "import book_pb2_grpc\n",
    "\n",
    "with grpc.insecure_channel('localhost:50051') as channel:\n",
    "    book1 = book_pb2.Book(title=\"1984\", author=\"George Orwell\", page_count=328)\n",
    "    stub = book_pb2_grpc.LibraryStub(channel)\n",
    "    response = stub.checkoutBook(book_pb2.Checkout(book=book1))\n",
    "    print(response)"
   ]
  },
  {
   "cell_type": "markdown",
   "id": "3b392020",
   "metadata": {},
   "source": [
    "## Submission\n",
    "\n",
    "- Submit the URL of the GitHub Repository that contains your work to NTU black board.\n",
    "- Should you reference the work of your classmate(s) or online resources, give them credit by adding either the name of your classmate or URL."
   ]
  }
 ],
 "metadata": {
  "language_info": {
   "name": "python"
  }
 },
 "nbformat": 4,
 "nbformat_minor": 5
}
